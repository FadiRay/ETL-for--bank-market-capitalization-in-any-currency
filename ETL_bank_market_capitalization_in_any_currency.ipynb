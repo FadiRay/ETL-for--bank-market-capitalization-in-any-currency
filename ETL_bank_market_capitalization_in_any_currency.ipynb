{
 "cells": [
  {
   "cell_type": "markdown",
   "metadata": {},
   "source": [
    "For the ETL process the bank market capitalization and the currency exchange rates are needed.\n",
    "1. The bank market capitalization is extracted through **web scraping** from Wikipedia [https://en.wikipedia.org](https://en.wikipedia.org/wiki/List_of_largest_banks).\n",
    "2. The currency exchange rates are imported using the **ExchangeRate-API** [https://exchangeratesapi.io/](https://exchangeratesapi.io/?utm_medium=Exinfluencer&utm_source=Exinfluencer&utm_content=000026UJ&utm_term=10006555&utm_id=NA-SkillsNetwork-Channel-SkillsNetworkCoursesIBMDeveloperSkillsNetworkPY0221ENSkillsNetwork23455645-2022-01-01)."
   ]
  },
  {
   "cell_type": "markdown",
   "metadata": {},
   "source": [
    "Importing the requiered libraries:"
   ]
  },
  {
   "cell_type": "code",
   "execution_count": 1,
   "metadata": {},
   "outputs": [],
   "source": [
    "import pandas as pd\n",
    "from datetime import datetime\n",
    "from bs4 import BeautifulSoup\n",
    "import html5lib\n",
    "import requests\n",
    "import pandas as pd"
   ]
  },
  {
   "cell_type": "markdown",
   "metadata": {},
   "source": [
    "## Web Scraping for the bank market capitalization"
   ]
  },
  {
   "cell_type": "code",
   "execution_count": 2,
   "metadata": {},
   "outputs": [],
   "source": [
    "# getting the data from wikipedia\n",
    "html_data = requests.get('https://en.wikipedia.org/wiki/List_of_largest_banks').text\n",
    "soup = BeautifulSoup(html_data, 'html.parser')\n",
    "\n",
    "largest_banks = pd.DataFrame(columns=['Bank name', 'Market cap (US billion)'])\n",
    "\n",
    "# extracting the necessary data from each row and appending it to the empty dataframe\n",
    "for row in soup.find_all('tbody')[3].find_all('tr'): \n",
    "    col = row.find_all('td')\n",
    "\n",
    "    if (col != []):\n",
    "        Name = col[1].text.replace('\\n','')\n",
    "        Market_cap = col[2].text.replace('\\n','')\n",
    "        largest_banks = largest_banks.append({'Bank name':Name, 'Market cap (US billion)':Market_cap}, ignore_index=True)\n",
    "\n",
    "# cleaning and changing data type\n",
    "largest_banks['Market cap (US billion)'].replace('\\[.\\]', '', regex=True, inplace = True)  \n",
    "largest_banks = largest_banks.astype({'Market cap (US billion)': float})\n",
    "\n",
    "# loading the data as a JSON file\n",
    "largest_banks.to_json('bank_market_cap.json')"
   ]
  },
  {
   "cell_type": "markdown",
   "metadata": {},
   "source": [
    "Alternative, pandas has a **read_html** methode, which can make the job easier."
   ]
  },
  {
   "cell_type": "code",
   "execution_count": 3,
   "metadata": {},
   "outputs": [],
   "source": [
    "# html = pd.read_html('https://en.wikipedia.org/wiki/List_of_largest_banks')\n",
    "\n",
    "# largest_banks = pd.DataFrame(html[3])\n",
    "# largest_banks.rename(columns={'Market cap(US$ billion)': 'Market cap (US billion)'}, inplace = True)\n",
    "# largest_banks = largest_banks[['Bank name', 'Market cap (US billion)']]\n",
    "# largest_banks['Market cap (US billion)'].replace('\\[.\\]', '', regex=True, inplace = True)\n",
    "# largest_banks = largest_banks.astype({'Market cap (US billion)': float}) \n",
    "# largest_banks\n",
    "# largest_banks.to_json('bank_market_cap.json')"
   ]
  },
  {
   "cell_type": "markdown",
   "metadata": {},
   "source": [
    "## API for the currency exchange rates"
   ]
  },
  {
   "cell_type": "markdown",
   "metadata": {},
   "source": [
    "Using ExchangeRate-API the currency exchange rate data can be imported. The steps below show how to get the access key to get the exchange rates.\n",
    "\n",
    "1.  Open the url : [https://exchangeratesapi.io/](https://exchangeratesapi.io/?utm_medium=Exinfluencer&utm_source=Exinfluencer&utm_content=000026UJ&utm_term=10006555&utm_id=NA-SkillsNetwork-Channel-SkillsNetworkCoursesIBMDeveloperSkillsNetworkPY0221ENSkillsNetwork23455645-2022-01-01) and click on **Get Free API Key**.\n",
    "2.  Subscribe for Free plan and Sign-in.\n",
    "3.  Once the account is created you will be redirected to [https://apilayer.com](https://apilayer.com/?utm_medium=Exinfluencer&utm_source=Exinfluencer&utm_content=000026UJ&utm_term=10006555&utm_id=NA-SkillsNetwork-Channel-SkillsNetworkCoursesIBMDeveloperSkillsNetworkPY0221ENSkillsNetwork23455645-2022-01-01) website.\n",
    "4.  Now, click on the **user icon** and click **Account**.\n",
    "\n",
    "3.  Scroll down and you will get the API Key section. Copy the API key and use in the url.\n",
    "\n"
   ]
  },
  {
   "cell_type": "code",
   "execution_count": 4,
   "metadata": {},
   "outputs": [],
   "source": [
    "# url = '***' \n",
    "# output = requests.get(url).text\n",
    "# exchange_rates = pd.read_json(output)\n",
    "# exchange_rates = exchange_rates[['rates']]\n",
    "# exchange_rates.to_csv('exchange_rates.csv')"
   ]
  },
  {
   "cell_type": "markdown",
   "metadata": {},
   "source": [
    "As the exchange rate fluctuates, for the ETL process the exchange rates will be extracted from the repository (from July 22nd, 2022) to make it simpler.\n"
   ]
  },
  {
   "cell_type": "markdown",
   "metadata": {},
   "source": [
    "# Extract\n"
   ]
  },
  {
   "cell_type": "markdown",
   "metadata": {},
   "source": [
    "### JSON extract function\n",
    "\n",
    "This function will extract the JSON file.\n"
   ]
  },
  {
   "cell_type": "code",
   "execution_count": 5,
   "metadata": {},
   "outputs": [],
   "source": [
    "def extract_from_json(json_file):\n",
    "    dataframe = pd.read_json(json_file)\n",
    "    return dataframe"
   ]
  },
  {
   "cell_type": "markdown",
   "metadata": {},
   "source": [
    "### CSV extract function\n",
    "\n",
    "This function will extract the CSV file.\n"
   ]
  },
  {
   "cell_type": "code",
   "execution_count": 6,
   "metadata": {},
   "outputs": [],
   "source": [
    "def extract_from_csv(csv_file, currency):\n",
    "    exchange_rate = round(pd.read_csv(csv_file, index_col = 0).loc[currency][0],4)\n",
    "    return exchange_rate"
   ]
  },
  {
   "cell_type": "markdown",
   "metadata": {},
   "source": [
    "# Transform\n",
    "\n",
    "Using any <code>exchange_rate</code> the `Market cap (US Billion)` column  from the `bank_market_cap.json` file will be changed from USD to the choosen currancy.\n"
   ]
  },
  {
   "cell_type": "code",
   "execution_count": 7,
   "metadata": {},
   "outputs": [],
   "source": [
    "def transform(DataFrame, exhange_rate, currency):\n",
    "    DataFrame.iloc[:,1]= round(DataFrame.iloc[:,1]*exchange_rate, 3)\n",
    "    DataFrame.rename(columns={'Market cap (US billion)': 'Market cap (%s billion)'%(currency)}, inplace = True)\n",
    "    return DataFrame"
   ]
  },
  {
   "cell_type": "markdown",
   "metadata": {},
   "source": [
    "# Load\n",
    "\n",
    "The load function takes a dataframe and load it to a new json file including the name of the choosen currency."
   ]
  },
  {
   "cell_type": "code",
   "execution_count": 8,
   "metadata": {},
   "outputs": [],
   "source": [
    "def load(DataFrame, currency):\n",
    "    DataFrame.to_json('bank_market_cap_%s.json'%(currency))"
   ]
  },
  {
   "cell_type": "markdown",
   "metadata": {},
   "source": [
    "## Logging function\n"
   ]
  },
  {
   "cell_type": "code",
   "execution_count": 9,
   "metadata": {},
   "outputs": [],
   "source": [
    "def log(message):\n",
    "    timestamp_format = '%Y-%h-%d-%H:%M:%S'\n",
    "    now = datetime.now()\n",
    "    timestamp = now.strftime(timestamp_format)\n",
    "    with open('logfile.txt','a') as f:\n",
    "        f.write(timestamp + ',' + message + '\\n')"
   ]
  },
  {
   "cell_type": "markdown",
   "metadata": {},
   "source": [
    "## Running the ETL process\n"
   ]
  },
  {
   "cell_type": "code",
   "execution_count": 10,
   "metadata": {},
   "outputs": [],
   "source": [
    "# enter any currency\n",
    "\n",
    "currency = 'EUR'"
   ]
  },
  {
   "cell_type": "code",
   "execution_count": 11,
   "metadata": {},
   "outputs": [],
   "source": [
    "# run the ETL Process\n",
    "\n",
    "log('ETL process started for %s'%(currency))\n",
    "\n",
    "log('Extract bank market capitalization started')\n",
    "bank_market_cap = extract_from_json('bank_market_cap.json')\n",
    "log('Extract ended')\n",
    "\n",
    "log('Extract the exchange rate started')\n",
    "exchange_rate = extract_from_csv('exchange_rates.csv', currency)\n",
    "log('Extract ended')\n",
    "\n",
    "log('Transformation started')\n",
    "transformed_market = transform(bank_market_cap, exchange_rate, currency)\n",
    "log('Transformation ended')\n",
    "\n",
    "log('Load started')\n",
    "load(transformed_market, currency)\n",
    "log('Load ended')\n",
    "log('_____________ETL process ended________________')"
   ]
  },
  {
   "cell_type": "markdown",
   "metadata": {},
   "source": [
    "This ETL Process is an upgraded version of an assignment in the IBM Data Engineering Certificate."
   ]
  }
 ],
 "metadata": {
  "kernelspec": {
   "display_name": "Python 3 (ipykernel)",
   "language": "python",
   "name": "python3"
  },
  "language_info": {
   "codemirror_mode": {
    "name": "ipython",
    "version": 3
   },
   "file_extension": ".py",
   "mimetype": "text/x-python",
   "name": "python",
   "nbconvert_exporter": "python",
   "pygments_lexer": "ipython3",
   "version": "3.9.7"
  }
 },
 "nbformat": 4,
 "nbformat_minor": 4
}
